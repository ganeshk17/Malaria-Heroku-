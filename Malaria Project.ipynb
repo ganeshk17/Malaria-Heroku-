{
 "cells": [
  {
   "cell_type": "code",
   "execution_count": null,
   "id": "168a26ee",
   "metadata": {},
   "outputs": [],
   "source": [
    "# import libraries\n",
    "\n",
    "from keras.models import Sequential\n",
    "from keras.layers import Conv2D\n",
    "from keras.layers import MaxPooling2D\n",
    "from keras.layers import Flatten\n",
    "from keras.layers import Dense"
   ]
  },
  {
   "cell_type": "code",
   "execution_count": null,
   "id": "cce3cc60",
   "metadata": {},
   "outputs": [],
   "source": [
    "# Function used for Classification of data\n",
    "classifier = Sequential()"
   ]
  },
  {
   "cell_type": "code",
   "execution_count": null,
   "id": "9a02d617",
   "metadata": {},
   "outputs": [],
   "source": [
    "# Sizing the data in layers\n",
    "classifier.add(Conv2D(32, (3, 3), input_shape = (60, 60, 3), activation = 'relu'))\n",
    "classifier.add(MaxPooling2D(pool_size = (2, 2)))"
   ]
  },
  {
   "cell_type": "code",
   "execution_count": null,
   "id": "758842b1",
   "metadata": {},
   "outputs": [],
   "source": [
    "classifier.add(Conv2D(32, (3, 3), activation = 'relu'))\n",
    "classifier.add(MaxPooling2D(pool_size = (2, 2)))"
   ]
  },
  {
   "cell_type": "code",
   "execution_count": null,
   "id": "db0a349b",
   "metadata": {},
   "outputs": [],
   "source": [
    "classifier = Sequential()"
   ]
  },
  {
   "cell_type": "code",
   "execution_count": null,
   "id": "9bda09f1",
   "metadata": {},
   "outputs": [],
   "source": [
    "# Final layer\n",
    "classifier.add(Dense(units = 128, activation = 'relu'))\n",
    "classifier.add(Dense(units = 1, activation = 'sigmoid'))"
   ]
  },
  {
   "cell_type": "code",
   "execution_count": null,
   "id": "a4ae40a6",
   "metadata": {},
   "outputs": [],
   "source": [
    "# Compiling the data into single\n",
    "classifier.compile(optimizer = 'adam', loss = 'binary_crossentropy', metrics = ['accuracy'])"
   ]
  },
  {
   "cell_type": "code",
   "execution_count": null,
   "id": "bfd368d9",
   "metadata": {},
   "outputs": [],
   "source": [
    "# Used for Image processing\n",
    "from keras.preprocessing.image import ImageDataGenerator"
   ]
  },
  {
   "cell_type": "code",
   "execution_count": null,
   "id": "de46d396",
   "metadata": {},
   "outputs": [],
   "source": [
    "# data to splited into training and testing of data\n",
    "train_data = ImageDataGenerator(rescale = 1./255,\n",
    "                                   shear_range = 0.3,\n",
    "                                   zoom_range = 0.3,\n",
    "                                   horizontal_flip = True)"
   ]
  },
  {
   "cell_type": "code",
   "execution_count": null,
   "id": "811af601",
   "metadata": {},
   "outputs": [],
   "source": [
    "# Rescaling of data\n",
    "test_data = ImageDataGenerator(rescale = 1./255)"
   ]
  },
  {
   "cell_type": "code",
   "execution_count": null,
   "id": "fef2ce9f",
   "metadata": {},
   "outputs": [],
   "source": [
    "train_set = train_data.flow_from_directory('cell_images/train',\n",
    "                                                 target_size = (64, 64),\n",
    "                                                 batch_size = 32,\n",
    "                                                 class_mode = 'binary')"
   ]
  },
  {
   "cell_type": "code",
   "execution_count": null,
   "id": "7ce2c447",
   "metadata": {},
   "outputs": [],
   "source": [
    "test_set = test_data.flow_from_directory('cell_images/test',\n",
    "                                            target_size = (64, 64),\n",
    "                                            batch_size = 32,\n",
    "                                            class_mode = 'binary')\n"
   ]
  },
  {
   "cell_type": "code",
   "execution_count": null,
   "id": "f412ef3b",
   "metadata": {},
   "outputs": [],
   "source": [
    "# Trained data fited to test data with fit function\n",
    "classifier.fit_generator(train_set,\n",
    "                         steps_per_epoch = 5000,\n",
    "                         epochs = 10,\n",
    "                         validation_data = test_set,\n",
    "                         validation_steps = 2000)\n"
   ]
  },
  {
   "cell_type": "code",
   "execution_count": null,
   "id": "f636d7dd",
   "metadata": {},
   "outputs": [],
   "source": [
    "# model saved\n",
    "from keras.models import load_model\n",
    "classifier.save(\"malaria.h5\")"
   ]
  },
  {
   "cell_type": "code",
   "execution_count": null,
   "id": "564461f0",
   "metadata": {},
   "outputs": [],
   "source": [
    "# for image testing\n",
    "import numpy as np\n",
    "from keras.preprocessing import image"
   ]
  },
  {
   "cell_type": "code",
   "execution_count": null,
   "id": "5a38ede2",
   "metadata": {},
   "outputs": [],
   "source": [
    "test_image = image.load_img('cell_images/test.png', target_size = (64, 64))\n",
    "test_image = image.img_to_array(test_image)\n",
    "test_image = np.expand_dims(test_image, axis = 0)\n"
   ]
  },
  {
   "cell_type": "code",
   "execution_count": null,
   "id": "d055b5a7",
   "metadata": {},
   "outputs": [],
   "source": [
    "result = classifier.predict(test_image)\n",
    "training_set.class_indices"
   ]
  },
  {
   "cell_type": "code",
   "execution_count": null,
   "id": "159f89d3",
   "metadata": {},
   "outputs": [],
   "source": [
    "if result[0][0] == 1:\n",
    "    prediction = 'Parasitized'\n",
    "else:\n",
    "    prediction = 'Uninfected'"
   ]
  }
 ],
 "metadata": {
  "kernelspec": {
   "display_name": "Python 3 (ipykernel)",
   "language": "python",
   "name": "python3"
  },
  "language_info": {
   "codemirror_mode": {
    "name": "ipython",
    "version": 3
   },
   "file_extension": ".py",
   "mimetype": "text/x-python",
   "name": "python",
   "nbconvert_exporter": "python",
   "pygments_lexer": "ipython3",
   "version": "3.9.7"
  }
 },
 "nbformat": 4,
 "nbformat_minor": 5
}
